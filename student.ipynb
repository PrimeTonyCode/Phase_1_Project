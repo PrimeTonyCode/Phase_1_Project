{
 "cells": [
  {
   "cell_type": "markdown",
   "metadata": {},
   "source": [
    "## Final Project Submission\n",
    "\n",
    "Please fill out:\n",
    "* Student name: ANTONY NJOROGE\n",
    "* Student pace: Part time\n",
    "* Scheduled project review date/time: 29th April 2025 \n",
    "* Instructor name: Sam G. Mwangi\n",
    "* Blog post URL:\n"
   ]
  },
  {
   "cell_type": "markdown",
   "metadata": {},
   "source": [
    "# Business Understanding: \n",
    "The company is expanding in to new industries to diversify its portfolio. Specifically, they are interested in purchasing and operating airplanes for commercial and private enterprises, but do not know anything about the potential risks of aircraft. \n",
    "\n",
    "Risk in aviation could relate to safety, maintenance costs, operational efficiency, regulatory compliance, or even market demand for certain types of aircraft.\n",
    "\n",
    "## Objective: \n",
    "Determining which aircraft are the lowest risk for the company to start this new business endeavor.\n",
    "Translate my findings into actionable insights that the head of the new aviation division can use to help decide which aircraft to purchase.\n",
    "\n",
    "## Data Understanding\n",
    "The dataset ['AviationData.csv'](https://www.kaggle.com/datasets/khsamaha/aviation-accident-database-synopses) is about accidents, not operational data. It contains data about Civil aviation accidents and selected incidents within the United States, its territories and possessions, and in international waters. \n",
    "\n",
    "\n",
    "## Setup\n",
    "\n",
    "Import the relevant libraries, open up the `AviationData.csv` file as dataframe called `aviation_data`. \n",
    "\n",
    "\n"
   ]
  },
  {
   "cell_type": "code",
   "execution_count": 1,
   "metadata": {},
   "outputs": [
    {
     "ename": "RuntimeError",
     "evalue": "module compiled against API version 0xe but this version of numpy is 0xd",
     "output_type": "error",
     "traceback": [
      "\u001b[1;31m---------------------------------------------------------------------------\u001b[0m",
      "\u001b[1;31mRuntimeError\u001b[0m                              Traceback (most recent call last)",
      "\u001b[1;31mRuntimeError\u001b[0m: module compiled against API version 0xe but this version of numpy is 0xd"
     ]
    },
    {
     "name": "stderr",
     "output_type": "stream",
     "text": [
      "<ipython-input-1-94beacd88b1b>:6: DtypeWarning: Columns (6,7,28) have mixed types. Specify dtype option on import or set low_memory=False.\n",
      "  aviation_data = pd.read_csv('data\\AviationData.csv', encoding='latin1')\n"
     ]
    },
    {
     "name": "stdout",
     "output_type": "stream",
     "text": [
      "<class 'pandas.core.frame.DataFrame'>\n",
      "RangeIndex: 88889 entries, 0 to 88888\n",
      "Data columns (total 31 columns):\n",
      " #   Column                  Non-Null Count  Dtype  \n",
      "---  ------                  --------------  -----  \n",
      " 0   Event.Id                88889 non-null  object \n",
      " 1   Investigation.Type      88889 non-null  object \n",
      " 2   Accident.Number         88889 non-null  object \n",
      " 3   Event.Date              88889 non-null  object \n",
      " 4   Location                88837 non-null  object \n",
      " 5   Country                 88663 non-null  object \n",
      " 6   Latitude                34382 non-null  object \n",
      " 7   Longitude               34373 non-null  object \n",
      " 8   Airport.Code            50249 non-null  object \n",
      " 9   Airport.Name            52790 non-null  object \n",
      " 10  Injury.Severity         87889 non-null  object \n",
      " 11  Aircraft.damage         85695 non-null  object \n",
      " 12  Aircraft.Category       32287 non-null  object \n",
      " 13  Registration.Number     87572 non-null  object \n",
      " 14  Make                    88826 non-null  object \n",
      " 15  Model                   88797 non-null  object \n",
      " 16  Amateur.Built           88787 non-null  object \n",
      " 17  Number.of.Engines       82805 non-null  float64\n",
      " 18  Engine.Type             81812 non-null  object \n",
      " 19  FAR.Description         32023 non-null  object \n",
      " 20  Schedule                12582 non-null  object \n",
      " 21  Purpose.of.flight       82697 non-null  object \n",
      " 22  Air.carrier             16648 non-null  object \n",
      " 23  Total.Fatal.Injuries    77488 non-null  float64\n",
      " 24  Total.Serious.Injuries  76379 non-null  float64\n",
      " 25  Total.Minor.Injuries    76956 non-null  float64\n",
      " 26  Total.Uninjured         82977 non-null  float64\n",
      " 27  Weather.Condition       84397 non-null  object \n",
      " 28  Broad.phase.of.flight   61724 non-null  object \n",
      " 29  Report.Status           82508 non-null  object \n",
      " 30  Publication.Date        75118 non-null  object \n",
      "dtypes: float64(5), object(26)\n",
      "memory usage: 21.0+ MB\n"
     ]
    }
   ],
   "source": [
    "# Import pandas and matplotlib\n",
    "import pandas as pd\n",
    "import matplotlib.pyplot as plt\n",
    "\n",
    "# Read the CSV file into a DataFrame\n",
    "aviation_data = pd.read_csv('data\\AviationData.csv', encoding='latin1')\n",
    "\n",
    "# Display the various datatypes within the dataframe\n",
    "aviation_data.info()\n"
   ]
  },
  {
   "cell_type": "markdown",
   "metadata": {},
   "source": [
    "### Step 1: Filter data by columns\n",
    "\n",
    " - Drop columns with over 50% missing values\n",
    " "
   ]
  },
  {
   "cell_type": "code",
   "execution_count": 2,
   "metadata": {},
   "outputs": [
    {
     "data": {
      "text/plain": [
       "(88889, 24)"
      ]
     },
     "execution_count": 2,
     "metadata": {},
     "output_type": "execute_result"
    }
   ],
   "source": [
    "# Drop columns with more than 50% missing values\n",
    "columns_to_drop_1 = ['Latitude', 'Longitude', 'FAR.Description', 'Schedule', 'Air.carrier','Airport.Code', 'Airport.Name']\n",
    "aviation_data = aviation_data.drop(columns=columns_to_drop_1)\n",
    "aviation_data.isnull().sum()\n",
    "aviation_data.shape"
   ]
  },
  {
   "cell_type": "markdown",
   "metadata": {},
   "source": [
    "### Step 2: Data Cleaning\n",
    "\n",
    "1. Removing rows with missing or irrelevant values in key columns like `Make`, `Model`, `Location`, `Total.Fatal.Injuries`, and `Aircraft.Category`.\n",
    "2. Converting numeric columns (e.g., `Total.Fatal.Injuries`) to appropriate data types."
   ]
  },
  {
   "cell_type": "code",
   "execution_count": 3,
   "metadata": {},
   "outputs": [
    {
     "data": {
      "text/plain": [
       "(28538, 24)"
      ]
     },
     "execution_count": 3,
     "metadata": {},
     "output_type": "execute_result"
    }
   ],
   "source": [
    "# Drop rows with missing values in 'Make' , 'Model' and 'Location columns\n",
    "aviation_data.dropna(subset=['Make', 'Model', 'Location', 'Total.Fatal.Injuries', 'Aircraft.Category'], inplace=True)\n",
    "\n",
    "# Strip whitespaces\n",
    "aviation_data = aviation_data.apply(lambda x: x.str.strip() if x.dtype == \"object\" else x)\n",
    "\n",
    "# Convert Total.Fatal.Injuries to numeric\n",
    "aviation_data[\"Total.Fatal.Injuries\"] = pd.to_numeric(aviation_data[\"Total.Fatal.Injuries\"], errors=\"coerce\")\n",
    "\n",
    "# Filter out rows with invalid or negative injury values\n",
    "aviation_data = aviation_data[aviation_data[\"Total.Fatal.Injuries\"] >= 0]\n",
    "aviation_data.shape"
   ]
  },
  {
   "cell_type": "markdown",
   "metadata": {},
   "source": [
    "### Step 4: Categorize data\n",
    "\n",
    " - Filter data to required private and commercial airplanes\n",
    " - Filter data by Airplane category"
   ]
  },
  {
   "cell_type": "code",
   "execution_count": 4,
   "metadata": {},
   "outputs": [
    {
     "data": {
      "text/plain": [
       "(16584, 24)"
      ]
     },
     "execution_count": 4,
     "metadata": {},
     "output_type": "execute_result"
    }
   ],
   "source": [
    "# Define the custom order for sorting\n",
    "custom_order = [\"Personal\", \"Business\", \"Ferry\", \"Executive/Corporate\"]\n",
    "\n",
    "# Sort the dataframe based on the custom order\n",
    "private_and_commercial = aviation_data[aviation_data['Purpose.of.flight'].isin(custom_order)].copy()\n",
    "private_and_commercial['Purpose.of.flight'] = pd.Categorical(private_and_commercial['Purpose.of.flight'], categories=custom_order, ordered=True)\n",
    "private_and_commercial = private_and_commercial.sort_values('Purpose.of.flight')\n",
    "\n",
    "private_and_commercial.shape"
   ]
  },
  {
   "cell_type": "code",
   "execution_count": 5,
   "metadata": {},
   "outputs": [],
   "source": [
    "airplanes_data = private_and_commercial[private_and_commercial['Aircraft.Category'] == 'Airplane']"
   ]
  },
  {
   "cell_type": "markdown",
   "metadata": {},
   "source": [
    "### Step 5: Analyze Risk by Aircraft Model\n",
    "We will group the data by `Make` and `Model` to calculate:\n",
    "- Fatality rate by `Make`\n",
    "- Fatality rate by `Model`\n",
    "- Low risk airplanes"
   ]
  },
  {
   "cell_type": "code",
   "execution_count": 6,
   "metadata": {},
   "outputs": [],
   "source": [
    "X = 50\n",
    "\n",
    "# Filter makes with at least X accidents\n",
    "makes_with_min_accidents = airplanes_data.groupby('Make').filter(lambda x: len(x) >= X)\n",
    "\n",
    "# Calculate fatality rate for each make\n",
    "fatality_rates_by_make = makes_with_min_accidents.groupby('Make').agg(\n",
    "    total_accidents=('Event.Id', 'count'),\n",
    "    total_fatalities=('Total.Fatal.Injuries', 'sum')\n",
    ")\n",
    "fatality_rates_by_make['fatality_rate'] = fatality_rates_by_make['total_fatalities'] / fatality_rates_by_make['total_accidents']\n",
    "\n",
    "# Sort by fatality rate in ascending order\n",
    "lowest_fatality_rates_by_make = fatality_rates_by_make.sort_values('fatality_rate', ascending=True)\n",
    "\n",
    "# lowest_fatality_rates_by_make"
   ]
  },
  {
   "cell_type": "code",
   "execution_count": 17,
   "metadata": {},
   "outputs": [],
   "source": [
    "X = 50\n",
    "\n",
    "# Filter models with at least X accidents\n",
    "models_with_min_accidents = airplanes_data.groupby('Model').filter(lambda x: len(x) >= X)\n",
    "\n",
    "# Calculate fatality rate for each model\n",
    "fatality_rates = models_with_min_accidents.groupby('Model').agg(\n",
    "    total_accidents=('Event.Id', 'count'),\n",
    "    total_fatalities=('Total.Fatal.Injuries', 'sum')\n",
    ")\n",
    "fatality_rates['fatality_rate'] = fatality_rates['total_fatalities'] / fatality_rates['total_accidents']\n",
    "\n",
    "# Sort by fatality rate in ascending order\n",
    "lowest_fatality_rates = fatality_rates.sort_values('fatality_rate', ascending=True)\n",
    "\n",
    "# lowest_fatality_rates.head()"
   ]
  },
  {
   "cell_type": "code",
   "execution_count": 18,
   "metadata": {},
   "outputs": [
    {
     "data": {
      "text/plain": [
       "Make               Model                 Total_Accidents  Total_Fatalities  Avg_Fatalities_Per_Accident\n",
       "177MF LLC          PITTS MODEL 12        1                0.0               0.0                            1\n",
       "PERTH AMBOY        BIRD CK               1                0.0               0.0                            1\n",
       "PFOUTS ALFRED L    SENIOR AERO SPT D260  1                0.0               0.0                            1\n",
       "PFLUGRADT          Kitfox                1                0.0               0.0                            1\n",
       "PF CUB FLYERS LLC  CCK-2000              1                0.0               0.0                            1\n",
       "                                                                                                          ..\n",
       "DENNIS l ZUMBALT   SKY BOLT              1                0.0               0.0                            1\n",
       "DENISAR RICHARD A  LANCAIR 320           1                0.0               0.0                            1\n",
       "DEMPSEY DANIEL M   ZODIAC CH601XLB       1                0.0               0.0                            1\n",
       "DELWYN SCHMIDT     No model              1                1.0               1.0                            1\n",
       "unknown            kit                   1                0.0               0.0                            1\n",
       "Length: 5452, dtype: int64"
      ]
     },
     "execution_count": 18,
     "metadata": {},
     "output_type": "execute_result"
    }
   ],
   "source": [
    "# Group by Make and Model\n",
    "risk_analysis = airplanes_data.groupby([\"Make\", \"Model\"]).agg(\n",
    "    Total_Accidents=(\"Event.Id\", \"count\"),\n",
    "    Total_Fatalities=(\"Total.Fatal.Injuries\", \"sum\"),\n",
    "    Avg_Fatalities_Per_Accident=(\"Total.Fatal.Injuries\", \"mean\")\n",
    ").reset_index()\n",
    "\n",
    "# Sort by Total_Fatalities to identify low-risk aircraft\n",
    "low_risk_aircraft = risk_analysis.sort_values(by=\"Total_Fatalities\", ascending=True)\n",
    "low_risk_aircraft.value_counts()"
   ]
  },
  {
   "cell_type": "code",
   "execution_count": 27,
   "metadata": {},
   "outputs": [
    {
     "data": {
      "text/html": [
       "<div>\n",
       "<style scoped>\n",
       "    .dataframe tbody tr th:only-of-type {\n",
       "        vertical-align: middle;\n",
       "    }\n",
       "\n",
       "    .dataframe tbody tr th {\n",
       "        vertical-align: top;\n",
       "    }\n",
       "\n",
       "    .dataframe thead th {\n",
       "        text-align: right;\n",
       "    }\n",
       "</style>\n",
       "<table border=\"1\" class=\"dataframe\">\n",
       "  <thead>\n",
       "    <tr style=\"text-align: right;\">\n",
       "      <th></th>\n",
       "      <th>Make</th>\n",
       "      <th>Model</th>\n",
       "      <th>Total_Accidents</th>\n",
       "      <th>Total_Fatalities</th>\n",
       "      <th>Avg_Fatalities_Per_Accident</th>\n",
       "    </tr>\n",
       "  </thead>\n",
       "  <tbody>\n",
       "    <tr>\n",
       "      <th>962</th>\n",
       "      <td>CESSNA</td>\n",
       "      <td>172</td>\n",
       "      <td>234</td>\n",
       "      <td>57.0</td>\n",
       "      <td>0.243590</td>\n",
       "    </tr>\n",
       "    <tr>\n",
       "      <th>1438</th>\n",
       "      <td>Cessna</td>\n",
       "      <td>172</td>\n",
       "      <td>184</td>\n",
       "      <td>45.0</td>\n",
       "      <td>0.244565</td>\n",
       "    </tr>\n",
       "    <tr>\n",
       "      <th>1271</th>\n",
       "      <td>CIRRUS DESIGN CORP</td>\n",
       "      <td>SR22</td>\n",
       "      <td>118</td>\n",
       "      <td>72.0</td>\n",
       "      <td>0.610169</td>\n",
       "    </tr>\n",
       "    <tr>\n",
       "      <th>995</th>\n",
       "      <td>CESSNA</td>\n",
       "      <td>180</td>\n",
       "      <td>115</td>\n",
       "      <td>11.0</td>\n",
       "      <td>0.095652</td>\n",
       "    </tr>\n",
       "    <tr>\n",
       "      <th>1007</th>\n",
       "      <td>CESSNA</td>\n",
       "      <td>182</td>\n",
       "      <td>114</td>\n",
       "      <td>35.0</td>\n",
       "      <td>0.307018</td>\n",
       "    </tr>\n",
       "    <tr>\n",
       "      <th>437</th>\n",
       "      <td>BEECH</td>\n",
       "      <td>A36</td>\n",
       "      <td>113</td>\n",
       "      <td>85.0</td>\n",
       "      <td>0.752212</td>\n",
       "    </tr>\n",
       "    <tr>\n",
       "      <th>3780</th>\n",
       "      <td>PIPER</td>\n",
       "      <td>PA-18-150</td>\n",
       "      <td>111</td>\n",
       "      <td>5.0</td>\n",
       "      <td>0.045045</td>\n",
       "    </tr>\n",
       "    <tr>\n",
       "      <th>1476</th>\n",
       "      <td>Cessna</td>\n",
       "      <td>182</td>\n",
       "      <td>101</td>\n",
       "      <td>43.0</td>\n",
       "      <td>0.425743</td>\n",
       "    </tr>\n",
       "    <tr>\n",
       "      <th>3882</th>\n",
       "      <td>PIPER</td>\n",
       "      <td>PA28</td>\n",
       "      <td>100</td>\n",
       "      <td>43.0</td>\n",
       "      <td>0.430000</td>\n",
       "    </tr>\n",
       "    <tr>\n",
       "      <th>979</th>\n",
       "      <td>CESSNA</td>\n",
       "      <td>172N</td>\n",
       "      <td>94</td>\n",
       "      <td>32.0</td>\n",
       "      <td>0.340426</td>\n",
       "    </tr>\n",
       "  </tbody>\n",
       "</table>\n",
       "</div>"
      ],
      "text/plain": [
       "                    Make      Model  Total_Accidents  Total_Fatalities  \\\n",
       "962               CESSNA        172              234              57.0   \n",
       "1438              Cessna        172              184              45.0   \n",
       "1271  CIRRUS DESIGN CORP       SR22              118              72.0   \n",
       "995               CESSNA        180              115              11.0   \n",
       "1007              CESSNA        182              114              35.0   \n",
       "437                BEECH        A36              113              85.0   \n",
       "3780               PIPER  PA-18-150              111               5.0   \n",
       "1476              Cessna        182              101              43.0   \n",
       "3882               PIPER       PA28              100              43.0   \n",
       "979               CESSNA       172N               94              32.0   \n",
       "\n",
       "      Avg_Fatalities_Per_Accident  \n",
       "962                      0.243590  \n",
       "1438                     0.244565  \n",
       "1271                     0.610169  \n",
       "995                      0.095652  \n",
       "1007                     0.307018  \n",
       "437                      0.752212  \n",
       "3780                     0.045045  \n",
       "1476                     0.425743  \n",
       "3882                     0.430000  \n",
       "979                      0.340426  "
      ]
     },
     "execution_count": 27,
     "metadata": {},
     "output_type": "execute_result"
    }
   ],
   "source": [
    "# Define a threshold for popularity (e.g., aircraft with more than 50 accidents)\n",
    "popular_airplanes = popular_grouped[popular_grouped[\"Total_Accidents\"] > 50]\n",
    "\n",
    "# Group by Make and Model for popular aircraft\n",
    "popular_grouped = airplanes_data.groupby([\"Make\", \"Model\"]).agg(\n",
    "    Total_Accidents=(\"Event.Id\", \"count\"),\n",
    "    Total_Fatalities=(\"Total.Fatal.Injuries\", \"sum\"),\n",
    "    Avg_Fatalities_Per_Accident=(\"Total.Fatal.Injuries\", \"mean\")\n",
    ").reset_index()\n",
    "\n",
    "# Sort by Total_Accidents in descending order\n",
    "popular_airplanes = popular_grouped.sort_values(by=\"Total_Accidents\", ascending=False)\n",
    "popular_airplanes.head(10)"
   ]
  },
  {
   "cell_type": "markdown",
   "metadata": {},
   "source": [
    "### Step 6: Visualization\n",
    "1. Fatality risk by `Make`\n",
    "2. Fatality risk by `Model`\n",
    "3. Low risk airplanes"
   ]
  },
  {
   "cell_type": "code",
   "execution_count": 9,
   "metadata": {},
   "outputs": [
    {
     "data": {
      "image/png": "[encoded data removed]",
      "text/plain": [
       "<Figure size 720x432 with 1 Axes>"
      ]
     },
     "metadata": {
      "needs_background": "light"
     },
     "output_type": "display_data"
    }
   ],
   "source": [
    "top_10_lowest_fatality_rates = lowest_fatality_rates_by_make.head(10)\n",
    "\n",
    "# Plot the data\n",
    "plt.figure(figsize=(10, 6))\n",
    "plt.bar(top_10_lowest_fatality_rates.index, top_10_lowest_fatality_rates['fatality_rate'], color='green')\n",
    "plt.xlabel('Make', fontsize=12)\n",
    "plt.ylabel('Fatality Rate', fontsize=12)\n",
    "plt.title('Top 10 Makes with Lowest Fatality Rates', fontsize=14)\n",
    "plt.xticks(rotation=90)\n",
    "plt.tight_layout()\n",
    "plt.show()"
   ]
  },
  {
   "cell_type": "code",
   "execution_count": 10,
   "metadata": {},
   "outputs": [
    {
     "data": {
      "image/png": "[encoded data removed]",
      "text/plain": [
       "<Figure size 720x432 with 1 Axes>"
      ]
     },
     "metadata": {
      "needs_background": "light"
     },
     "output_type": "display_data"
    }
   ],
   "source": [
    "plt.figure(figsize=(10, 6))\n",
    "plt.bar(lowest_fatality_rates.index[:10], lowest_fatality_rates['fatality_rate'][:10], color='orange')\n",
    "plt.xlabel('Model', fontsize=12)\n",
    "plt.ylabel('Fatality Rate', fontsize=12)\n",
    "plt.title('Top 10 Models with Lowest Fatality Rates', fontsize=14)\n",
    "plt.xticks(rotation=90)\n",
    "plt.tight_layout()\n",
    "plt.show()"
   ]
  },
  {
   "cell_type": "code",
   "execution_count": null,
   "metadata": {},
   "outputs": [
    {
     "data": {
      "image/png": "[encoded data removed]",
      "text/plain": [
       "<Figure size 720x432 with 1 Axes>"
      ]
     },
     "metadata": {
      "needs_background": "light"
     },
     "output_type": "display_data"
    }
   ],
   "source": [
    "# Select the top 10 low-risk popular aircraft \n",
    "top_10_low_risk_popular_aircraft = popular_airplanes.head(10)\n",
    "\n",
    "# Plot the data\n",
    "plt.figure(figsize=(10, 6))\n",
    "plt.bar(top_10_low_risk_popular_aircraft['Make'] + \" \" + top_10_low_risk_popular_aircraft['Model'], \n",
    "    top_10_low_risk_popular_aircraft['Total_Fatalities'], color='lightgreen')\n",
    "plt.xlabel('Aircraft (Make and Model)', fontsize=12)\n",
    "plt.ylabel('Total Fatalities', fontsize=12)\n",
    "plt.title('Top 10 Low-Risk Aircraft by Total Fatalities', fontsize=14)\n",
    "plt.xticks(rotation=90)\n",
    "plt.tight_layout()\n",
    "plt.show()"
   ]
  },
  {
   "cell_type": "markdown",
   "metadata": {},
   "source": [
    "### Step 7: Actionable Insights\n",
    "Based on the analysis, we can provide the following insights to the head of the aviation division:\n",
    "1. **Focus on Aircraft with Low Fatality Rates**: Aircraft models with the lowest total fatalities and average fatalities per accident are the safest choices for the business.\n",
    "2. **Consider Proven Manufacturers**: Aircraft from manufacturers with consistently low accident rates (e.g., Cessna, Piper) should be prioritized.\n",
    "3. **Balance Safety and Business Needs**: While safety is paramount, consider operational costs, passenger capacity, and suitability for commercial/private use when selecting aircraft."
   ]
  }
 ],
 "metadata": {
  "kernelspec": {
   "display_name": "learn-env",
   "language": "python",
   "name": "python3"
  },
  "language_info": {
   "codemirror_mode": {
    "name": "ipython",
    "version": 3
   },
   "file_extension": ".py",
   "mimetype": "text/x-python",
   "name": "python",
   "nbconvert_exporter": "python",
   "pygments_lexer": "ipython3",
   "version": "3.8.5"
  }
 },
 "nbformat": 4,
 "nbformat_minor": 2
}
